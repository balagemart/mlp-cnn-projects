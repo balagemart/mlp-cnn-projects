{
 "cells": [
  {
   "cell_type": "markdown",
   "metadata": {
    "id": "UPNGQgO6aXtZ"
   },
   "source": [
    "# 1. házi feladat\n",
    "\n",
    "Az első házi feladat során egy egyszerű Multi-layer Perceptron (MLP) típusú neuronhálót kell betanítani és kiértékelni egy regressziós és egy klasszifikációs feladaton a PyTorch könyvtár segítségével.\n",
    "\n",
    "A házi feladat több részfeladatból áll (A - I), melyek egymásra épülnek. A feladat automatikus tesztelőszkripttel rendelkezik és vizsgálja az egyes részfeladatokra adott megoldások helyességét. Éppen ezért, **ne változtasd meg a notebook struktúráját**, ne szedd több részre, illetve ne módosítsd a megírt részeket, csak a megoldásaidat írd be a megfelelő helyre, különben nem fogjuk tudni értékelni! A megoldások az `# Implement your solution BELOW` és `# Implement your solution ABOVE` sorok közé írandók. Ha a megoldott részfeladatok futtatásakor a \"Tester: .... OK\" felirat megjelenik, _vélhetően_ jó a megoldás. Azonban, a tesztelőszkript nem képes a megoldás helyességét minden aspektus szerint ellenőrizni. Így elképzelhető, hogy beadás után további javításokat kérünk a megoldásban. A beadott házi feladatok gépi tanulás alapú plágiumellenőrzésen esnek át. Másolás gyanújának felmerülése esetén mind a másolat(ok), mind az azt/azokat ihlető eredeti megoldások visszautasíthatók.\n",
    "\n",
    "**!!! A feladatok megoldását, vagy az arra mutató linkeket bárhol közzétenni tilos !!!**\n",
    "\n",
    "Elakadás esetén javasolt átnézni a Canvason megosztott segédanyag notebookokat és videókat, illetve az előadások anyagát. A Canvas fórumon \"HF1 GYIK\" névvel, a gyakori kérdéseket és válaszokat gyűjtjük össze. Továbbá, kérhető segítség az oktatóktól is, például a Teams rendszeren keresztül. Ehhez, kérjük a kurzus Canvas oldalán a legfelső modulban található _\"\n",
    "Teams beszélgetés indítása az oktatókkal\"_ linket használni: ez egy Teams beszélgetést kezdeményez az összes oktatóval egyidejűleg.\n",
    "\n",
    "**Megoldás és beküldés menete:**\n",
    "\n",
    "A közzétett, feladatokat tartalmazó Jupyter notebook a Google Drive-on keresztül lett megosztva, így a Google saját Jupyter notebook szerkesztője és futtatókörnyezete nyílik meg a linkre kattintáskor, a Google Colab. Ennek segítségével online szerkeszthető és futtatható a megosztott notebook. Mivel a notebook csak \"view\" jogosultságokkal van megosztva, a Google Colab az úgynevezett \"Playground\" módban nyitja azt meg, ahol bár szerkeszthető és futtatható a notebook, de a változtatások nem lesznek automatikusan mentve. A notebook maradandó hatásokkal járó szerkesztése az alábbi módokon lehetséges:\n",
    "- Javasolt a notebook-ot letölteni (.ipynb fájl) és a saját számítógépen telepített Python környezettel, `jupyterlab`, vagy `notebook` csomagok segítségével használni, hiszen a ZH alatt is ilyen környezettel kell majd dolgozni. További információk erről a környezetről a \"Szoftveres anyag - Python környezet infók\" videóban találhatók, Canvason. A szükséges csomagok telepítéséhez felhasználható a Canvas-ban, a \"ZH Python környezet (requirements.txt)\" link alatt lévő fájl is.\n",
    "- Ha online szeretnénk a notebookot szerkeszteni és futtatni a Google Colab segítségével, akkor le kell másolni azt a saját Drive tárhelyre (Google Colab file menü -> Save a copy to Drive), majd a másolatot kell megnyitni szerkesztésre. Az így készült megoldás letölthető és beadható. A ZH alatt azonban a Google Colab nem lesz elérhető.\n",
    "\n",
    "A kész megoldást tartalmazó notebookot (.ipynb) fájlként kell feltölteni a Canvas-ban, a házi feladat beadási felületén.\n",
    "**Kérjük a notebook szerkezetét nem módosítani és nem szétszedni külön feladatok szerint!**\n",
    "\n",
    "**Határidő:** 2025. április 3., csütörtök, 23:59.\n",
    "\n",
    "**Késve legkésőbb leadható:** 2025. április 8., kedd, 23:59. - **Ezt követően pótlásra és/vagy javításra nincs lehetőség, ezáltal jegyszerzésre sem. !!!**\n",
    "\n",
    "**Értékelés:** A házi feladat helyes megoldása és oktatók által történő elfogadása feltétele a jegyszerzésnek. A házi feladat minősége részletesen pontozásra nem kerül, az értékelése kétfokozatú: megfelelt / nem felelt meg. Az első határidőig leadott nagyrészt helyes és nagyrészt teljes (\"megfelelt\") megoldásért 5 pont jár. Késés esetén ez elveszik.\n",
    "\n",
    "**Kikötés:** Ahol csak lehet, hatékony, vektorizált megoldásokat várunk. További részletekért lásd: Canvas, HF1 GYIK fórum, \"Használhatók-e Python ciklusok?\" bejegyzés."
   ]
  },
  {
   "cell_type": "markdown",
   "metadata": {
    "id": "dEKuTE7hGsZr"
   },
   "source": [
    "Tesztelő szkript letöltése, importok."
   ]
  },
  {
   "cell_type": "code",
   "execution_count": 10,
   "metadata": {
    "id": "dc9fa3F-T0u5"
   },
   "outputs": [],
   "source": [
    "# Download tester\n",
    "#!rm annbsc25_p1_hw1_tester.py                                                               # \"!rm\" might not work in all environments\n",
    "#!wget nipg12.inf.elte.hu/~vavsaai@nipg.lab/annbsc25_p1/files/annbsc25_p1_hw1_tester.py      # \"!wget\" might not work in all environments\n",
    "                                                                                            #     when using offline Jupyterlab/notebook environment, download and place tester script next to the notebook file\n",
    "\n",
    "import copy\n",
    "import numpy as np\n",
    "import torch\n",
    "import torch.nn as nn\n",
    "from torch.utils.data import Dataset, DataLoader\n",
    "\n",
    "import matplotlib.pyplot as plt\n",
    "\n",
    "from annbsc25_p1_hw1_tester import Tester"
   ]
  },
  {
   "cell_type": "markdown",
   "metadata": {
    "id": "BJ7TTytUaUwW"
   },
   "source": [
    "###**A**: Az adatbázis betöltése\n",
    "\n",
    "**Információ az adatbázisról**:\n",
    "Az adatbázis eredetije az UCI Machine Learning Repository-ról származik (http://archive.ics.uci.edu/ml/datasets/Student+Performance), mely kissé módosítva lett. Két portugál középiskolában tanuló diákok néhány adatát és a harmadév végi, év végi jegyeiket (0-20) tartalmazza. A házi feladat keretében, **neuronhálókkal próbálunk a diákok szociális és pénzügyi háttere alapján becsléseket adni az iskolai teljesítményükre.**\n",
    "\n",
    "A tesztelőszkript letölti a szöveges formában tárolt adatbázist és elhelyezi a `content` sztringben. Alább, kiírjuk a hosszát és az első 500 karaktert is a sztringből. Az adatbázis fájlok egy-egy sora adja meg az egy-egy mintaelemhez tartozó változók értékeit. A sorokban az egyes változókhoz tartozó értékek pontosvesszővel vannak elválasztva. Az adatbázis első sora a változók neveit tartalmazza.\n",
    "\n",
    "A feladatod, hogy **alakítsd át a `content` sztringet az adatbázis változóinak értékeit tartalmazó NumPy tömbbé.** A tömbök adattípusa np.float32 (lebegőpontos) legyen! A változók értékeit helyezd el a `dataset_noisy` (n_mintaelem, n_változó) alakú tömbben!  Az input változókat és címkéket később választjuk majd szét.\n",
    "\n",
    "Az adatbázis helyenként hiányzó értékeket tartalmaz: az adatok egy része nem volt elérhető az adatbázis rögzítésekor. Konkrétabban, a szülők munkáját leíró és a tanuló gyámjának kilétére vonatkozó oszlopokban találhatók hiányzó értékek. Ezek a kilencedik (Mjob), tizedik (Fjob) és tizenkettedik (guardian) oszlopokban találhatók. Hiányzó értékek esetén a `content` sztringben ténylegesen is hiányoznak a megfelelő pontosvesszők közt elhelyezkedő értékek, tehát ilyenkor két (vagy több) pontosvessző következik egymás után.\n",
    "\n",
    "A hiányzó értékeket kezelned kell és fel kell ismerned beolvasás közben: a hiányzó értékek helyére a `dataset_noisy` tömbben `np.nan` (Not-a-Number) értékek kell, hogy kerüljenek!"
   ]
  },
  {
   "cell_type": "code",
   "execution_count": 11,
   "metadata": {
    "id": "OdKqP5OvXJpX"
   },
   "outputs": [
    {
     "name": "stdout",
     "output_type": "stream",
     "text": [
      "Number of characters in dataset: 27418\n",
      "school;sex;age;address;famsize;Pstatus;Medu;Fedu;Mjob;Fjob;reason;guardian;traveltime;studytime;failures;schoolsup;famsup;paid;activities;nursery;higher;internet;romantic;famrel;freetime;goout;Dalc;Walc;health;absences;G1;G2;G3\n",
      "0;0;18;0;1;1;4;4;5;0;4;;2;2;0;0;1;1;1;0;0;1;1;4;3;4;1;1;3;6;14;15;15\n",
      "0;0;17;0;1;0;1;1;5;3;4;1;1;2;0;1;0;1;1;1;0;0;1;5;3;3;1;1;3;4;6;6;7\n",
      "0;0;15;0;0;0;1;1;5;;3;;1;2;3;0;1;0;1;0;0;0;1;4;3;2;2;3;3;10;7;7;8\n",
      "0;0;15;0;1;0;4;2;1;4;0;;1;3;0;1;0;0;0;0;0;0;0;3;2;2;1;1;5;2;15;15;15\n",
      "0\n"
     ]
    }
   ],
   "source": [
    "tester = Tester()\n",
    "content = tester.get_dataset_content()\n",
    "\n",
    "print(\"Number of characters in dataset:\", len(content))\n",
    "print(content[:500])\n"
   ]
  },
  {
   "cell_type": "code",
   "execution_count": 12,
   "metadata": {
    "id": "q_kfEC4sEMtw"
   },
   "outputs": [
    {
     "name": "stdout",
     "output_type": "stream",
     "text": [
      "Tester: Dataset loading OK\n"
     ]
    }
   ],
   "source": [
    "lines = content.split('\\n')\n",
    "lines_segmented = [line.split(';') for line in lines]\n",
    "#print(lines_segmented)\n",
    "attr_names=lines_segmented[0] \n",
    "lines_segmented=lines_segmented[:-1]\n",
    "\n",
    "#utolso elem egy 0 volt\n",
    "last_item = 0\n",
    "data= lines_segmented[1::]\n",
    "\n",
    "dataset=[]\n",
    "for rec in data:\n",
    "    #print(f\"{rec}\\n\")\n",
    "    dataset_row=[]\n",
    "    for idx,item in enumerate(rec):\n",
    "        item = item.strip()\n",
    "        val = np.nan if item == '' else float(item)\n",
    "        dataset_row.append(val)\n",
    "    dataset.append(dataset_row)\n",
    "dataset_noisy=np.array(dataset, dtype=np.float32)\n",
    "dataset=np.array(dataset, dtype=np.float32)\n",
    "\n",
    "tester.test('dataset_load', dataset_noisy)"
   ]
  },
  {
   "cell_type": "markdown",
   "metadata": {
    "id": "h742EV1H38vK"
   },
   "source": [
    "## **B**: A hiányzó adat kezelése\n",
    "\n",
    "NaN értékekkel nem fogunk tudni tovább dolgozni, hiszen a legtöbb NumPy/PyTorch művelet nem támogatja őket és bármilyen tömbre, melyben legalább egy NaN érték található, ezen műveletek kimenete is NaN lesz, így például a neuronhálónk becslése és költsége is. Utóbbi megakadályozza, hogy a hálót gradiens módszerrel optimalizáljuk. Éppen ezért, a hiányzó adatokat reprezentáló NaN értékeket az alábbi módon fogjuk eltüntetni:\n",
    "\n",
    "**Hozz létre minden NaN értéket tartalmazó változóhoz egy-egy újabb változót, melyek azt jelzik, hogy valódi érték található-e az adott változóban az adott mintaelemnél, vagy nem!** Valódi érték esetén az új változó kapjon 1 értéket, NaN esetén pedig 0 értéket! Helyezd el az eredeti adatot és az új változókat a `dataset` tömbben: az új változók oszlopai kerüljenek megfelelő sorrendben az összes eredeti változót tartalmazó oszlop **után**! Az előző feladat leírásában említésre került, hogy melyik oszlopok tartalmazhatnak NaN értékeket.</br>\n",
    "Mivel a 33 változós adatbázisunk #8, #9 és #11 indexű oszlopai (változói) tartalmazhatnak NaN értékeket, akkor az új `dataset` tömbünk 36 változós lesz és a három új változó az utolsó három oszlopba kerül. Például tehát, a #33 indexű oszlopban egy adott sorba nullás érték kerül, ha a #8-as oszlopban annál a sornál NaN található, egyébként pedig 1-es érték kerül oda. Hasonlóan készítjük el a #34, #35 indexű oszlopokat a #9 és #11 indexű oszlopok alapján.\n",
    "\n",
    "Végül, **helyettesítsd** az így elkészült **tömb összes NaN értékét nullával!**\n"
   ]
  },
  {
   "cell_type": "code",
   "execution_count": 13,
   "metadata": {
    "id": "tqx3YTmF4KGT"
   },
   "outputs": [
    {
     "name": "stdout",
     "output_type": "stream",
     "text": [
      "Tester: Dataset fill missing OK\n"
     ]
    }
   ],
   "source": [
    "\n",
    "\n",
    "col_8=np.array(dataset_noisy[:,8])\n",
    "col_9=np.array(dataset_noisy[:,9])\n",
    "col_11=np.array(dataset_noisy[:,11])\n",
    "\n",
    "mask_8=np.where(np.isnan(col_8), 0, 1)\n",
    "mask_9=np.where(np.isnan(col_9), 0, 1)\n",
    "mask_11=np.where(np.isnan(col_11), 0, 1)\n",
    "\n",
    "\n",
    "dataset_noisy = np.column_stack((dataset_noisy, mask_8))\n",
    "dataset_noisy = np.column_stack((dataset_noisy, mask_9))\n",
    "dataset_noisy = np.column_stack((dataset_noisy, mask_11))\n",
    "\n",
    "#np.set_printoptions(threshold=np.inf)\n",
    "dataset_noisy=np.nan_to_num(dataset_noisy, nan=0)\n",
    "dataset=np.array(dataset_noisy, dtype=np.float32)\n",
    "\n",
    "tester.test('dataset_fill_missing', dataset)"
   ]
  },
  {
   "cell_type": "markdown",
   "metadata": {
    "id": "KrE7NLJTR7Aq"
   },
   "source": [
    "## **C**: Tanító-, validációs- és teszthalmaz szétválasztása\n",
    "\n",
    "**Keverd meg véletlenszerűen a mintaelemeket** a `dataset` tömbben! Ezt általánosságban azért célszerű megtenni, mert az adatbázisban az elemek valamilyen tulajdonságaik alapján rendezve lehetnek. Megkeverés nélkül, a szétválasztott halmazokban jelentősen különbözne a címkék eloszlása.\n",
    "\n",
    "Ezt követően **válaszd szét a tömböt tanító-, validációs- és teszthalmazra**, 50%, 25%, 25% arányban! A halmazokat tartalmazó három tömböt nevezd el `dataset_split_train`, `dataset_split_val`, `dataset_split_test`-nek, sorrendben!"
   ]
  },
  {
   "cell_type": "code",
   "execution_count": 14,
   "metadata": {
    "id": "VlPL_GE2xcR1"
   },
   "outputs": [
    {
     "name": "stdout",
     "output_type": "stream",
     "text": [
      "Tester: Dataset split OK\n"
     ]
    }
   ],
   "source": [
    "new_indexes = np.arange(dataset.shape[0])\n",
    "np.random.shuffle(new_indexes)\n",
    "dataset = dataset[new_indexes]\n",
    "\n",
    "TRAINING_SET_RATIO=0.5\n",
    "VALIDATION_SET_RATIO=0.25\n",
    "TEST_SET_RATIO=0.25\n",
    "\n",
    "assert TRAINING_SET_RATIO + VALIDATION_SET_RATIO + TEST_SET_RATIO == 1\n",
    "\n",
    "n_all = dataset.shape[0]\n",
    "n_training_samples = int(dataset.shape[0] * TRAINING_SET_RATIO) \n",
    "n_validation_samples = int(dataset.shape[0] * VALIDATION_SET_RATIO) \n",
    "n_test_samples = n_all - n_training_samples - n_validation_samples\n",
    "\n",
    "training_offset = n_training_samples\n",
    "validation_offset = n_training_samples + n_validation_samples\n",
    "\n",
    "dataset_split_train = dataset[:training_offset,:]\n",
    "dataset_split_val = dataset[training_offset:validation_offset,:]\n",
    "dataset_split_test = dataset[validation_offset:,:]\n",
    "#print(dataset_split_train.shape)\n",
    "\n",
    "tester.test('dataset_split', dataset_split_train, dataset_split_val, dataset_split_test)"
   ]
  },
  {
   "cell_type": "markdown",
   "metadata": {
    "id": "jCQKy2XL_yEx"
   },
   "source": [
    "## **D**: Az adat-iterátorok létrehozása a regressziós feladathoz\n",
    "\n",
    "A neuronhálók gradiens módszeres betanítását a legtöbbször iterátorokkal valósítjuk meg, melyek bejárják az adatbázisunkat és előállítják a neuronhálók tanításához szükséges input és címke kötegeket. A regressziós feladat során a becsülendő címkeváltozó a diákok év végi jegye lesz (`G3` nevű oszlop az eredeti adatbázis szövegfájlban - ez a 32-es indexű oszlop), míg az input változókat az összes többi attribútum adja, beleértve az újonnan előállított három változót is.\n",
    "\n",
    "Ebben a részfeladatban **elő kell állítanod három iterátor objektumot** `dataloader_reg_train`, `dataloader_reg_val`, `dataloader_reg_test` néven, melyek az előző részfeladatban elkészített tanító-, validációs- és teszthalmazokat tartalmazó tömböket járják be. **Az iterátorok minden lépésben két tenzort adnak vissza**, melyek egy-egy kötegnyi input és címke adatot tárolnak el. A visszaadott tenzorok alakja tehát `(batch_size, 35)` és `(batch_size, 1)` lesz. Utóbbi (a címkéket tartalmazó tenzor) a diákok év végi jegyeit fogja tartalmazni, előbbi pedig az adatbázis összes többi változójának értékét a megfelelő mintaelemekre. `batch_size` a mintaelemek számát adja meg, melyeket egyszerre, egy kötegben fog megkapni a neuronhálónk - ennek értéke lehet például 32.\n",
    "\n",
    "Hangsúlyozandó, hogy az iterátorok a fent említett NumPy tömbökből (`np.ndarray`) nyert mintaelem-kötegeket már `torch.tensor` típusú objektumokként adják vissza (pontosabban, kételemű tuple-öket adnak vissza, melyekben `torch.tensor` objektumok lesznek). A PyTorch-al definiált neuronhálók betanításához már mindenképp PyTorch tenzorok szükségesek. A tenzorok **adattípusa** 4 bájtos lebegőpontos típus (`torch.float32`) legyen!\n",
    "\n",
    "A **tanító és validációs halmazt felsoroló iterátorok járják be véletlen sorrendben** a hozzájuk tartozó mintaelemeket! A teszt halmazt felsoroló iterátor ne változtasson a `dataset_split_test` tömb sorrendjén!\n",
    "\n",
    "Az iterátorok implementációja többféleképpen megoldható. Például, egyedi generátorral/iterátorral, vagy a `torch.utils.data` modul `Dataset` és `DataLoader` osztályai felhasználásával és esetleges származtatásával."
   ]
  },
  {
   "cell_type": "code",
   "execution_count": 15,
   "metadata": {
    "id": "ls4niplvUgQ6"
   },
   "outputs": [
    {
     "name": "stdout",
     "output_type": "stream",
     "text": [
      "Tester: Dataset iterators for regression task OK\n"
     ]
    }
   ],
   "source": [
    "from torch.utils.data import Dataset, DataLoader\n",
    "\n",
    "class RegressionDataSet(Dataset):\n",
    "    def __init__(self, input_split, labels_split):\n",
    "        self.xs = torch.tensor(input_split, dtype=torch.float32)\n",
    "        self.ys = torch.tensor(labels_split, dtype=torch.float32)\n",
    "    def __len__(self):\n",
    "        return self.xs.shape[0]\n",
    "    def __getitem__(self, idx):\n",
    "        return self.xs[idx,:], self.ys[idx,None]\n",
    "\n",
    "#CIMKEK\n",
    "labels_split_train = dataset_split_train[:,32]\n",
    "labels_split_val = dataset_split_val[:,32]\n",
    "labels_split_test = dataset_split_test[:,32]\n",
    "\n",
    "#ADATOK\n",
    "inputs_split_train = np.delete(dataset_split_train, 32, axis=1)\n",
    "inputs_split_val = np.delete(dataset_split_val, 32, axis=1)\n",
    "inputs_split_test = np.delete(dataset_split_test, 32, axis=1)\n",
    "\n",
    "train_dataset = RegressionDataSet(inputs_split_train, labels_split_train)\n",
    "val_dataset = RegressionDataSet(inputs_split_val, labels_split_val)\n",
    "test_dataset = RegressionDataSet(inputs_split_test, labels_split_test)\n",
    "\n",
    "#ADATOK BETOLTESE\n",
    "dataloader_reg_train = DataLoader(train_dataset, batch_size=32, shuffle=True)\n",
    "dataloader_reg_val = DataLoader(val_dataset, batch_size=32, shuffle=True)\n",
    "dataloader_reg_test = DataLoader(test_dataset, batch_size=32, shuffle=False)\n",
    "\n",
    "tester.test('reg_iter', dataloader_reg_train, dataloader_reg_val, dataloader_reg_test)"
   ]
  },
  {
   "cell_type": "markdown",
   "metadata": {
    "id": "dohOMs4NlVXG"
   },
   "source": [
    "## **E**: A regressziós neuronháló definiálása\n",
    "\n",
    "**Definiáld a regressziós feladathoz alkalmazandó neuronhálót megvalósító osztályt**, mely az általános `torch.nn.Module` osztály leszármazottja, majd példányosítsd azt és add értékül a `reg_model` nevű változónak a példányt!\n",
    "\n",
    "A regressziós neuronháló **tartalmazzon 3 teljesen összekötött réteget, sorban 25, 25 és 1 neuronnal és alkalmazza a ReLU aktivációs függvényt a rétegek között!**\n",
    "\n",
    "Az új osztálynak mindenképpen meg kell valósítania a `forward(self, x)` tagfüggvényt, mely a neuronhálót (hipotézisfüggvényt) az `x` input tenzorra kiértékeli. A `forward` függvény fogja majd az előbb definiált adat-iterátorból érkező input tenzorokat megkapni és előállítani belőle a címkebecsléseket. Az osztály konstruktorában célszerű a neuronhálónk rétegeit inicializálni."
   ]
  },
  {
   "cell_type": "code",
   "execution_count": 16,
   "metadata": {
    "id": "rAywpNOml4VL"
   },
   "outputs": [
    {
     "name": "stdout",
     "output_type": "stream",
     "text": [
      "Tester: Regression model architecture OK\n"
     ]
    }
   ],
   "source": [
    "import torch.nn as nn\n",
    "\n",
    "class MLPRegressionModel(nn.Module):\n",
    "    def __init__(self, input_dim):\n",
    "        super().__init__()\n",
    "        self.layers = nn.Sequential(\n",
    "            nn.Linear(input_dim, 25),\n",
    "            nn.ReLU(),\n",
    "            nn.Linear(25, 25),\n",
    "            nn.ReLU(),\n",
    "            nn.Linear(25, 1)\n",
    "        )\n",
    "\n",
    "    def forward(self, x):\n",
    "        return self.layers(x)\n",
    "        \n",
    "reg_model = MLPRegressionModel(input_dim=inputs_split_train.shape[1]) #batch size 32 volt szoval\n",
    "\n",
    "tester.test('reg_model_architecture', reg_model)"
   ]
  },
  {
   "cell_type": "markdown",
   "metadata": {
    "id": "Pz4fFtBUhUXV"
   },
   "source": [
    "## **F**: A háló betanítása regressziós feladatra\n",
    "\n",
    "**Tanítsd be a** `reg_model` **neuronhálót** a tanítóhalmazon a `dataloader_reg_train` iterátor segítségével és alkalmazd a `dataloader_reg_val` iterátort a validációhoz! Az iterátorok egyetlen (akár véletlen sorrendben történő) végighaladása a tanító és validációs adathalmazokon határoz meg egy _epoch_-ot.\n",
    "\n",
    "Alkalmazd a regressziókor szokásosan használt **\"átlagos négyzetes eltérés\" költséget**! **Mérd le minden epoch-ban a tanító- és a validációs halmazon mért költségeket, majd a tanítás végeztével rajzold ki ezeknek az értékeknek a tanítás során való alakulását egy közös grafikonon!** A grafikonok kirajzolásához használhatod például a `matplotlib` könyvtárat. Figyelj rá, hogy a grafikonon jól látszódjanak a görbék közti eltérések a tanítás végén is! Ha szükséges, beállíthatod ehhez kézzel, hogy az y tengely melyik részét mutassa a grafikon. **A grafikonon legyen jelmagyarázat** (legend), mely megmutatja, melyik görbe írja le a tanítási költséget és melyik a validációs költséget!\n",
    "\n",
    "Azt, hogy a tanítás meddig tartson (az epoch-ok számát) megadhatod kézzel is, a validációs költség alakulása alapján: próbáld úgy megadni, hogy a neuronháló lehetőleg jól betanult legyen, de súlyos túltanulás még ne jelenjen meg!\n",
    "\n",
    "A betanításhoz válassz egy gradiens módszer alapú **optimalizációs algoritmust** a `torch.optim` modulból (pl. `SGD`, `Adam`, `RMSprop`, stb.), majd válassz egy megfelelő **tanulási rátát** is!\n",
    "\n",
    "A betanítás végeztével **mérd le az átlagos költséget a teljes teszthalmazon** és add értékül a kapott számot a `test_mse` változónak!\n",
    "\n",
    "Ezt követően, **válassz néhány mintaelemet a teszthalmazból** (például a `dataloader_reg_test` iterátor segítségével) és **adj becslést a címkéjükre** az input változók értékei alapján, majd **írasd ki az egyes mintaelemekre a becsült és az igazi címkéjüket!** Így példákon is láthatjuk, hogy mennyire ad jó becsléseket a neuronhálónk.\n",
    "\n"
   ]
  },
  {
   "cell_type": "code",
   "execution_count": 17,
   "metadata": {
    "id": "ReFyxJXAzcx5"
   },
   "outputs": [
    {
     "data": {
      "image/png": "[encoded data removed]",
      "text/plain": [
       "<Figure size 640x480 with 1 Axes>"
      ]
     },
     "metadata": {},
     "output_type": "display_data"
    },
    {
     "name": "stdout",
     "output_type": "stream",
     "text": [
      "Példák:\n",
      "\n",
      "Becsles: 17.7236, Igazi: 16.0000\n",
      "Becsles: 15.9696, Igazi: 16.0000\n",
      "Becsles: 15.3518, Igazi: 15.0000\n",
      "Becsles: 13.2324, Igazi: 12.0000\n",
      "Becsles: 11.3921, Igazi: 11.0000\n",
      "Becsles: 15.3475, Igazi: 15.0000\n",
      "Becsles: 15.4019, Igazi: 15.0000\n",
      "Becsles: 14.0280, Igazi: 14.0000\n",
      "Becsles: 10.1453, Igazi: 10.0000\n",
      "Becsles: 10.8745, Igazi: 11.0000\n",
      "Tester: Regression model learning OK\n"
     ]
    }
   ],
   "source": [
    "import matplotlib.pyplot as plt\n",
    "\n",
    "loss_fn = nn.MSELoss()\n",
    "\n",
    "n_max_epochs = 100\n",
    "learning_rate = 0.005\n",
    "batch_size = 32\n",
    "optimizer = torch.optim.Adam(reg_model.parameters(), lr=learning_rate)\n",
    "\n",
    "train_losses = []\n",
    "val_losses = []\n",
    "for epoch_idx in range(n_max_epochs):\n",
    "    #tanulas\n",
    "    reg_model.train()\n",
    "    train_losses_in_epoch = []\n",
    "\n",
    "    for train_batch_xs, train_batch_ys in dataloader_reg_train:\n",
    "        optimizer.zero_grad()\n",
    "        train_batch_ys_pred = reg_model(train_batch_xs)\n",
    "        loss = loss_fn(train_batch_ys_pred, train_batch_ys)\n",
    "        train_losses_in_epoch.append(loss.detach())\n",
    "\n",
    "        loss.backward()\n",
    "        optimizer.step()\n",
    "\n",
    "    train_losses_in_epoch = torch.tensor(train_losses_in_epoch)    \n",
    "    train_losses.append(train_losses_in_epoch.mean())\n",
    "        \n",
    "    #validacio\n",
    "    reg_model.eval()\n",
    "    val_losses_in_epoch = []\n",
    "    for val_batch_xs, val_batch_ys in dataloader_reg_val:\n",
    "        with torch.no_grad():\n",
    "            val_batch_ys_pred = reg_model(val_batch_xs)\n",
    "        loss = loss_fn(val_batch_ys_pred, val_batch_ys)\n",
    "        val_losses_in_epoch.append(loss.detach())\n",
    "\n",
    "    val_losses_in_epoch = torch.tensor(val_losses_in_epoch)       \n",
    "    val_losses.append(val_losses_in_epoch.mean())\n",
    "\n",
    "    #teszt\n",
    "    test_ys_preds = []\n",
    "    labels_test_t = torch.tensor(labels_split_test, dtype=torch.float32)\n",
    "    for test_batch_xs, _ in dataloader_reg_test:\n",
    "        with torch.no_grad():\n",
    "            test_batch_ys_pred = reg_model(test_batch_xs)\n",
    "            test_ys_preds.append(test_batch_ys_pred)\n",
    "    \n",
    "    test_ys_preds = torch.cat(test_ys_preds, dim=0)\n",
    "    test_mse = loss_fn(test_ys_preds, labels_test_t.unsqueeze(1)) \n",
    "    #print(test_mse[])\n",
    "\n",
    "#vizualizacio\n",
    "plt.plot(train_losses, label='Training')\n",
    "plt.plot(val_losses, label='Validation')\n",
    "plt.xlabel('Epochs')\n",
    "plt.ylabel('Loss')\n",
    "plt.title('Training vs Validation Loss Over Epochs')\n",
    "plt.legend()\n",
    "plt.grid(True)\n",
    "plt.tight_layout()\n",
    "plt.show()\n",
    "\n",
    "print(\"Példák:\\n\")\n",
    "for i in range(10):\n",
    "        prediction = test_ys_preds[i].item()\n",
    "        true_label = labels_test_t[i].item()\n",
    "        print(f\"Becsles: {prediction:.4f}, Igazi: {true_label:.4f}\")\n",
    "    \n",
    "tester.test('reg_model_learning', test_mse)"
   ]
  },
  {
   "cell_type": "markdown",
   "metadata": {
    "id": "pTBqUmDzPiYI"
   },
   "source": [
    "## **G**: Az adat-iterátorok létrehozása a klasszifikációs feladathoz\n",
    "\n",
    "Hasonlóan a D) feladathoz, itt is három adat-iterátort kell létrehoznunk, azonban ezúttal egy kissé eltérő feladatot fogunk megtanulni megoldani, így a visszaadott tenzorok alakja / adattípusa is eltérő lesz. **Állítsd elő** a `dataloader_cl_train`, `dataloader_cl_val`, `dataloader_cl_test` nevű **iterátorokat**, melyek ugyancsak a C) részfeladatban elkészült tanító-, validációs- és teszthalmazokat tartalmazó tömböket járják be! A klasszifikációs feladatban input változókként az összes változót felhasználjuk az adatbázisban, kivéve a három harmadév végi jegyét a diákoknak (`G1`, `G2`, `G3` nevű, #30, #31 és #32 indexű oszlopok az eredeti adatbázis szövegfájlban). Címkeként három kategóriát definiálunk és az összes diákot besoroljuk ezekbe a kategóriákba:\n",
    "- **\"Gyengén teljesítő diákok\"** kategória, #0 kategóriaindex: azon diákok kerülnek ide, akiknek legalább két jegyük kisebb, mint 11.\n",
    "- **\"Közepesen teljesítő diákok\"** kategória, #1 kategóriaindex: azon diákok kerülnek ide, akik átlagos jegye kisebb, mint 14, de nem tartoznak a \"Gyengén teljesítő diákok\" közé.\n",
    "- **\"Jól teljesítő diákok\"** kategória, #2 kategóriaindex: azon diákok kerülnek ide, akik nem tartoznak a másik két kategóriába.\n",
    "\n",
    "A fentiek alapján az iterátorok által visszaadott tenzorok alakja `(batch_size, 33)` és `(batch_size,)` lesz. Utóbbi (a címkéket tartalmazó tenzor) a diákok kategóriaindexét fogja tartalmazni (azaz 0, 1, vagy 2 értékeket, `torch.int64` adattípusban), előbbi pedig az adatbázis összes felhasznált változójának értékét a megfelelő mintaelemekre `torch.float32` adattípusban. `batch_size` ezúttal is a mintaelemek számát adja meg, ez kézzel beállítandó.\n",
    "\n",
    "A **tanító és validációs halmazt felsoroló iterátorok véletlen sorrendben járják be** a hozzájuk tartozó mintaelemeket! A teszt halmazt felsoroló iterátor ne változtasson a `dataset_split_test` tömb sorrendjén!"
   ]
  },
  {
   "cell_type": "code",
   "execution_count": 18,
   "metadata": {
    "id": "I4QacNSQAhdz"
   },
   "outputs": [
    {
     "name": "stdout",
     "output_type": "stream",
     "text": [
      "Tester: Dataset iterators for classification task OK\n"
     ]
    }
   ],
   "source": [
    "from torch.utils.data import Dataset, DataLoader\n",
    "import statistics\n",
    "\n",
    "class ClassificationDataSet(Dataset):\n",
    "    def __init__(self, input_split, labels_split):\n",
    "        self.xs = torch.tensor(input_split, dtype=torch.float32)\n",
    "        self.ys = torch.tensor(labels_split, dtype=torch.int64)\n",
    "    def __len__(self):\n",
    "        return self.xs.shape[0]\n",
    "    def __getitem__(self, idx):\n",
    "        return self.xs[idx], self.ys[idx]\n",
    "\n",
    "def calculate_label(split_labels):\n",
    "    split_labels = np.array(split_labels)\n",
    "    \n",
    "    avg_of_row = split_labels.mean(axis=1)\n",
    "    no_under_11 = (split_labels < 11).sum(axis=1)\n",
    "\n",
    "    labels=np.full(split_labels.shape[0], 2, dtype=np.int64)\n",
    "    \n",
    "    labels[no_under_11 >= 2] = 0\n",
    "    not_zero = no_under_11 < 2\n",
    "    labels[(no_under_11 < 2) & (avg_of_row < 14)] = 1\n",
    "    return labels\n",
    "\n",
    "#CIMKEK\n",
    "labels_split_train = dataset_split_train[:,[30,31,32]] \n",
    "labels_split_val = dataset_split_val[:,[30,31,32]]\n",
    "labels_split_test = dataset_split_test[:,[30,31,32]]\n",
    "\n",
    "#ADATOK\n",
    "inputs_split_train = np.delete(dataset_split_train, [30,31,32], axis=1)\n",
    "inputs_split_val = np.delete(dataset_split_val, [30,31,32], axis=1)\n",
    "inputs_split_test = np.delete(dataset_split_test, [30,31,32], axis=1)\n",
    "\n",
    "train_dataset = ClassificationDataSet(inputs_split_train, calculate_label(labels_split_train))\n",
    "val_dataset = ClassificationDataSet(inputs_split_val, calculate_label(labels_split_val))\n",
    "test_dataset = ClassificationDataSet(inputs_split_test, calculate_label(labels_split_test))\n",
    "\n",
    "#ADATOK BETOLTESE\n",
    "dataloader_cl_train = DataLoader(train_dataset, batch_size=32, shuffle=True)\n",
    "dataloader_cl_val = DataLoader(val_dataset, batch_size=32, shuffle=True)\n",
    "dataloader_cl_test = DataLoader(test_dataset, batch_size=32, shuffle=False)\n",
    "\n",
    "tester.test('cl_iter', dataloader_cl_train, dataloader_cl_val, dataloader_cl_test)"
   ]
  },
  {
   "cell_type": "markdown",
   "metadata": {
    "id": "9xdtHfyrwexF"
   },
   "source": [
    "## **H**: A klasszifikációs neuronháló definiálása\n",
    "\n",
    "**Definiáld a klasszifikációs feladathoz alkalmazandó neuronhálót megvalósító osztályt**, mely a regressziós neuronhálót implementáló osztályhoz hasonlóan, az általános `torch.nn.Module` osztály leszármazottja! Példányosítsd az új osztályt és add értékül a `cl_model` nevű változónak a példányt!\n",
    "\n",
    "A klasszifikációs neuronháló **tartalmazzon 3 teljesen összekötött réteget! Az első kettő réteg tartalmazzon egyenként 30 és 20 neuront és alkalmazza a ReLU aktivációs függvényt a rétegek után!** Az utolsó réteget a háromkategóriás klasszifikációnak megfelelően kell kialakítani!"
   ]
  },
  {
   "cell_type": "code",
   "execution_count": 19,
   "metadata": {
    "id": "30Iwot3xxVXI"
   },
   "outputs": [
    {
     "name": "stdout",
     "output_type": "stream",
     "text": [
      "Tester: Classification model architecture OK\n"
     ]
    }
   ],
   "source": [
    "import torch.nn as nn\n",
    "class MLPClassifierModel(nn.Module):\n",
    "    def __init__(self, input_dim):\n",
    "        super().__init__()\n",
    "        self.layers = nn.Sequential(\n",
    "            nn.Linear(input_dim, 30),\n",
    "            nn.ReLU(),\n",
    "            nn.Linear(30,20),\n",
    "            nn.ReLU(),\n",
    "            nn.Linear(20,3),\n",
    "            nn.Softmax(dim=1)\n",
    "        )\n",
    "    def forward(self, x):\n",
    "      return self.layers(x)\n",
    "\n",
    "\n",
    "cl_model = MLPClassifierModel(input_dim=inputs_split_train.shape[1])\n",
    "\n",
    "tester.test('cl_model_architecture', cl_model)"
   ]
  },
  {
   "cell_type": "markdown",
   "metadata": {
    "id": "7uowunGxa2Mq"
   },
   "source": [
    "## **I**: A háló betanítása (multi-class) klasszifikációs feladatra\n",
    "\n",
    "**Tanítsd be a** `cl_model` **neuronhálót** a tanítóhalmazon a `dataloader_cl_train` iterátor segítségével és alkalmazd a `dataloader_cl_val` iterátort a validációhoz!\n",
    "\n",
    "Alkalmazd a multi-class klasszifikációkor szokásosan használt **cross-entropy költséget**! **Mérd le minden epoch-ban a tanító- és a validációs halmazon mért költségeket, majd a tanítás végeztével rajzold ki ezeknek az értékeknek a tanítás során való alakulását egy közös grafikonon!** A grafikonon a jelmagyarázat meglétére és a görbék könnyű elkülöníthetőségére figyelj ezúttal is!\n",
    "\n",
    "A tanítást ezúttal az **early stopping** technika állítsa le! Amennyiben adott számú epoch-on keresztül (`patience`) nem javul a validációs költség, érjen véget a betanítás és **állítsuk vissza a `cl_model` súlyait abból az epoch-ból, amikor a legjobb volt a validációs költség!** Mindez automatikusan történjen!\n",
    "\n",
    "A betanítás végeztével **mérd le az átlagos költséget a teljes teszthalmazon** és add értékül a kapott számot a `test_ce` változónak!\n",
    "\n",
    "**Számold ki az _accuracy_ (pontosság) metrikát is a teszthalmaz elemein** és add értékül a kapott számot a `test_acc` változónak!! Az _accuracy_ metrika a helyesen klasszifikált mintaelemek arányát adja meg. Például, ha 150 mintaelem kategóriájának becslésekor 75 esetben találtuk el a helyes kategóriát, az _accuracy_ értéke 0.5 lesz.\n",
    "\n",
    "Ezt követően, **válassz néhány mintaelemet a teszthalmazból** (például a `dataloader_cl_test` iterátor segítségével) és **adj becslést a címkéjükre** (a kategória indexére) az input változók értékei alapján, majd **írasd ki az egyes mintaelemekre a becsült és az igazi címkéjüket** (a kategóriák indexét)! Így példákon is láthatjuk, hogy mennyire ad jó becsléseket a neuronhálónk.\n",
    "\n",
    "Végezetül, **számold ki a háló teszthalmazon vett konfúziós mátrixát és rajzold ki azt**! A konfúziós mátrix egy k x k méretű mátrix k kategória esetén, ahol az `[i,j]` indexű elem megadja, hogy az adathalmazon a modellünk hány `i` kategóriába tartozó mintaelemet becsült a `j` kategóriába. A modellünk jó teljesítményét jelzi, ha minél több elem kerül a konfúziós mátrix főátlójába. A számoláshoz felhasználhatsz külső könyvtárat is, de NumPy-ban is megoldható. A kirajzoláshoz használható például a `matplotlib.pyplot` csomag `imshow` függvénye. Figyelj rá, hogy a grafikonon világosan látszon, hogy melyik tengely sorolja fel az igazi kategóriákat és melyik a becsült kategóriákat, látszanak a sorok és oszlopok végén a kategóriák indexei és a cellákban az odatartozó mintaelemek darabszáma!\n"
   ]
  },
  {
   "cell_type": "code",
   "execution_count": 20,
   "metadata": {
    "id": "5v3_oyswb78-"
   },
   "outputs": [
    {
     "name": "stdout",
     "output_type": "stream",
     "text": [
      "Predicted: 2.0000 Actual: 2.0000\n",
      "Predicted: 2.0000 Actual: 2.0000\n",
      "Predicted: 1.0000 Actual: 2.0000\n",
      "Predicted: 1.0000 Actual: 1.0000\n",
      "Predicted: 2.0000 Actual: 1.0000\n",
      "Predicted: 2.0000 Actual: 2.0000\n",
      "Predicted: 2.0000 Actual: 2.0000\n",
      "Predicted: 2.0000 Actual: 2.0000\n",
      "Predicted: 0.0000 Actual: 0.0000\n",
      "Predicted: 0.0000 Actual: 1.0000\n",
      "Predicted: 2.0000 Actual: 1.0000\n",
      "Predicted: 2.0000 Actual: 0.0000\n",
      "Predicted: 0.0000 Actual: 0.0000\n",
      "Predicted: 1.0000 Actual: 0.0000\n",
      "Predicted: 0.0000 Actual: 0.0000\n",
      "Predicted: 2.0000 Actual: 2.0000\n",
      "Predicted: 1.0000 Actual: 1.0000\n",
      "Predicted: 0.0000 Actual: 0.0000\n",
      "Predicted: 2.0000 Actual: 1.0000\n",
      "Predicted: 2.0000 Actual: 2.0000\n",
      "Predicted: 0.0000 Actual: 0.0000\n",
      "Predicted: 1.0000 Actual: 0.0000\n",
      "Predicted: 2.0000 Actual: 2.0000\n",
      "Predicted: 1.0000 Actual: 0.0000\n",
      "Predicted: 2.0000 Actual: 2.0000\n",
      "Predicted: 1.0000 Actual: 0.0000\n",
      "Predicted: 0.0000 Actual: 0.0000\n",
      "Predicted: 2.0000 Actual: 1.0000\n",
      "Predicted: 0.0000 Actual: 0.0000\n",
      "Predicted: 0.0000 Actual: 0.0000\n",
      "Predicted: 2.0000 Actual: 2.0000\n",
      "Predicted: 1.0000 Actual: 0.0000\n",
      "Predicted: 0.0000 Actual: 0.0000\n",
      "Predicted: 0.0000 Actual: 0.0000\n",
      "Predicted: 2.0000 Actual: 2.0000\n",
      "Predicted: 1.0000 Actual: 2.0000\n",
      "Predicted: 0.0000 Actual: 1.0000\n",
      "Predicted: 1.0000 Actual: 1.0000\n",
      "Predicted: 1.0000 Actual: 0.0000\n",
      "Predicted: 2.0000 Actual: 1.0000\n",
      "Predicted: 2.0000 Actual: 1.0000\n",
      "Predicted: 0.0000 Actual: 0.0000\n",
      "Predicted: 2.0000 Actual: 1.0000\n",
      "Predicted: 0.0000 Actual: 0.0000\n",
      "Predicted: 0.0000 Actual: 1.0000\n",
      "Predicted: 0.0000 Actual: 0.0000\n",
      "Predicted: 2.0000 Actual: 2.0000\n",
      "Predicted: 1.0000 Actual: 1.0000\n",
      "Predicted: 1.0000 Actual: 2.0000\n",
      "Predicted: 2.0000 Actual: 1.0000\n",
      "Predicted: 2.0000 Actual: 2.0000\n",
      "Predicted: 2.0000 Actual: 1.0000\n",
      "Predicted: 1.0000 Actual: 0.0000\n",
      "Predicted: 2.0000 Actual: 1.0000\n",
      "Predicted: 0.0000 Actual: 1.0000\n",
      "Predicted: 2.0000 Actual: 2.0000\n",
      "Predicted: 2.0000 Actual: 1.0000\n",
      "Predicted: 2.0000 Actual: 1.0000\n",
      "Predicted: 2.0000 Actual: 1.0000\n",
      "Predicted: 1.0000 Actual: 1.0000\n",
      "Predicted: 2.0000 Actual: 2.0000\n",
      "Predicted: 2.0000 Actual: 1.0000\n",
      "Predicted: 1.0000 Actual: 1.0000\n",
      "Predicted: 0.0000 Actual: 0.0000\n",
      "Predicted: 1.0000 Actual: 1.0000\n",
      "Predicted: 0.0000 Actual: 0.0000\n",
      "Predicted: 2.0000 Actual: 2.0000\n",
      "Predicted: 2.0000 Actual: 2.0000\n",
      "Predicted: 2.0000 Actual: 2.0000\n",
      "Predicted: 0.0000 Actual: 0.0000\n",
      "Predicted: 0.0000 Actual: 0.0000\n",
      "Predicted: 1.0000 Actual: 2.0000\n",
      "Predicted: 0.0000 Actual: 0.0000\n",
      "Predicted: 0.0000 Actual: 2.0000\n",
      "Predicted: 2.0000 Actual: 1.0000\n",
      "Predicted: 2.0000 Actual: 1.0000\n",
      "Predicted: 0.0000 Actual: 1.0000\n",
      "Predicted: 0.0000 Actual: 0.0000\n",
      "Predicted: 2.0000 Actual: 2.0000\n",
      "Predicted: 2.0000 Actual: 2.0000\n",
      "Predicted: 2.0000 Actual: 2.0000\n",
      "Predicted: 0.0000 Actual: 0.0000\n",
      "Predicted: 2.0000 Actual: 2.0000\n",
      "Predicted: 0.0000 Actual: 0.0000\n",
      "Predicted: 0.0000 Actual: 0.0000\n",
      "Predicted: 2.0000 Actual: 1.0000\n",
      "Predicted: 0.0000 Actual: 1.0000\n",
      "Predicted: 0.0000 Actual: 0.0000\n",
      "Predicted: 2.0000 Actual: 2.0000\n",
      "Predicted: 2.0000 Actual: 2.0000\n",
      "Predicted: 2.0000 Actual: 1.0000\n",
      "Predicted: 1.0000 Actual: 0.0000\n",
      "Predicted: 2.0000 Actual: 1.0000\n",
      "Predicted: 0.0000 Actual: 0.0000\n",
      "Predicted: 0.0000 Actual: 0.0000\n",
      "Predicted: 1.0000 Actual: 0.0000\n",
      "Predicted: 2.0000 Actual: 2.0000\n",
      "Predicted: 1.0000 Actual: 1.0000\n",
      "Predicted: 1.0000 Actual: 0.0000\n",
      "Predicted: 2.0000 Actual: 2.0000\n",
      "Test Loss: 0.9143\n",
      "Test Acc: 0.6250\n"
     ]
    },
    {
     "data": {
      "image/png": "[encoded data removed]",
      "text/plain": [
       "<Figure size 640x480 with 1 Axes>"
      ]
     },
     "metadata": {},
     "output_type": "display_data"
    },
    {
     "data": {
      "image/png": "[encoded data removed]",
      "text/plain": [
       "<Figure size 640x480 with 1 Axes>"
      ]
     },
     "metadata": {},
     "output_type": "display_data"
    },
    {
     "name": "stdout",
     "output_type": "stream",
     "text": [
      "Tester: Classification model learning OK\n"
     ]
    }
   ],
   "source": [
    "import matplotlib.pyplot as pl\n",
    "\n",
    "loss_fn = nn.CrossEntropyLoss()\n",
    "\n",
    "@torch.no_grad()\n",
    "def acc_fn(y_pred, y_true):\n",
    "    return torch.count_nonzero(torch.argmax(y_pred,dim=1) == y_true) / y_pred.shape[0]\n",
    "\n",
    "n_max_epochs = 100\n",
    "learning_rate = 0.001\n",
    "batch_size = 32\n",
    "optimizer = torch.optim.Adam(cl_model.parameters(), lr=learning_rate)\n",
    "\n",
    "train_losses = []\n",
    "val_losses = []\n",
    "train_accuracy = []\n",
    "val_accuracy = []\n",
    "best_cl_model = None\n",
    "best_val_loss = float('inf')\n",
    "early_stopping_patience = 60\n",
    "last_early_stopping_update_ep_idx = 0\n",
    "\n",
    "for epoch_idx in range(n_max_epochs):\n",
    "    #tanulas\n",
    "    cl_model.train()\n",
    "    train_losses_in_epoch = []\n",
    "    train_accs_in_epoch = []\n",
    "\n",
    "    for train_batch_xs, train_batch_ys in dataloader_cl_train:\n",
    "        optimizer.zero_grad()\n",
    "        train_batch_ys_pred = cl_model(train_batch_xs)\n",
    "        loss = loss_fn(train_batch_ys_pred, train_batch_ys)\n",
    "        \n",
    "        train_losses_in_epoch.append(loss.detach())\n",
    "        \n",
    "        loss.backward()\n",
    "        optimizer.step()\n",
    "\n",
    "    train_losses_in_epoch = torch.tensor(train_losses_in_epoch)\n",
    "    avg_tr_epoch_loss = train_losses_in_epoch.mean()\n",
    "    train_losses.append(avg_tr_epoch_loss)\n",
    "\n",
    "    #validacio\n",
    "    cl_model.eval()\n",
    "    val_losses_in_epoch = []\n",
    "    for val_batch_xs, val_batch_ys in dataloader_cl_val:\n",
    "        with torch.no_grad():\n",
    "            val_batch_ys_pred = cl_model(val_batch_xs)\n",
    "        loss = loss_fn(val_batch_ys_pred, val_batch_ys)\n",
    "        \n",
    "        val_losses_in_epoch.append(loss.detach())\n",
    "\n",
    "    val_losses_in_epoch = torch.tensor(val_losses_in_epoch)\n",
    "    avg_val_epoch_loss = val_losses_in_epoch.mean()\n",
    "    val_losses.append(avg_val_epoch_loss)\n",
    "\n",
    "    # early stopping: idx meghatarozasa\n",
    "    if avg_val_epoch_loss < best_val_loss:\n",
    "        best_val_loss = avg_val_epoch_loss\n",
    "        best_cl_model = copy.deepcopy(cl_model)\n",
    "        last_early_stopping_update_ep_idx = epoch_idx\n",
    "\n",
    "    # early stopping: ha nincs frissules break\n",
    "    if last_early_stopping_update_ep_idx + early_stopping_patience < epoch_idx:\n",
    "        print(\"Training is terminated by early stopping.\")\n",
    "        break\n",
    "\n",
    "cl_model = best_cl_model\n",
    "\n",
    "#teszt\n",
    "cl_model.eval()\n",
    "test_losses_in_epoch = []\n",
    "test_accs_in_epoch = []\n",
    "test_pred = []\n",
    "test_real = []\n",
    "with torch.no_grad():\n",
    "    for test_batch_xs, test_batch_ys in dataloader_cl_test:\n",
    "        test_batch_ys_pred = cl_model(test_batch_xs)\n",
    "        test_pred.append(test_batch_ys_pred)\n",
    "        test_real.append(test_batch_ys)\n",
    "        loss = loss_fn(test_batch_ys_pred, test_batch_ys)\n",
    "\n",
    "        test_losses_in_epoch.append(loss.detach())\n",
    "        test_acc = acc_fn(test_batch_ys_pred, test_batch_ys)\n",
    "        test_accs_in_epoch.append(test_acc)\n",
    "        \n",
    "    test_losses_in_epoch = torch.tensor(test_losses_in_epoch)\n",
    "    test_accs_in_epoch = torch.tensor(test_accs_in_epoch)\n",
    "\n",
    "test_ce = test_losses_in_epoch.mean()\n",
    "test_acc = test_accs_in_epoch.mean()\n",
    "\n",
    "#becsles\n",
    "new_indexes = np.array(np.arange(len(test_dataset)))\n",
    "for idx in new_indexes:\n",
    "    inp_samp = test_dataset[idx][0]\n",
    "    outp_samp = test_dataset[idx][1]\n",
    "\n",
    "    #print(inp_samp[:10])\n",
    "    with torch.no_grad():\n",
    "        pred_samp = cl_model(inp_samp.unsqueeze(0))\n",
    "    predicted = torch.argmax(pred_samp).item()\n",
    "    real = outp_samp.item()\n",
    "    print(f\"Predicted: {predicted:.4f} Actual: {real:.4f}\")\n",
    "\n",
    "print(f\"Test Loss: {test_ce:.4f}\")\n",
    "print(f\"Test Acc: {test_acc:.4f}\")\n",
    "\n",
    "#konfuzios\n",
    "correct = 0\n",
    "total = 0\n",
    "conf_mat = np.zeros((3,3), dtype=int)\n",
    "cl_model.eval()\n",
    "with torch.no_grad():\n",
    "    for test_batch_xs, test_batch_ys in dataloader_cl_test:\n",
    "        test_batch_ys_pred = cl_model(test_batch_xs)\n",
    "        predicted = torch.argmax(test_batch_ys_pred, dim=1)\n",
    "\n",
    "        correct += (predicted == test_batch_ys).sum().item()\n",
    "        total += len(test_batch_ys)\n",
    "        for true, pred in zip(test_batch_ys, predicted):\n",
    "            conf_mat[true.item(), pred.item()] += 1\n",
    "\n",
    "for i in range(conf_mat.shape[0]):\n",
    "    for j in range(conf_mat.shape[1]):\n",
    "        plt.text(j, i, str(conf_mat[i, j]), \n",
    "            ha='center', va='center', color='black')\n",
    "\n",
    "pl.imshow(conf_mat, cmap='Blues')\n",
    "pl.xlabel('Predicted Class')\n",
    "pl.ylabel('Actual Class')\n",
    "plt.show()\n",
    "\n",
    "\n",
    "# Plot training/val curves\n",
    "plt.plot(train_losses, label='Training')\n",
    "plt.plot(val_losses, label='Validation')\n",
    "plt.xlabel('Epochs')\n",
    "plt.ylabel('Loss')\n",
    "plt.title('Training vs Validation Loss Over Epochs')\n",
    "plt.legend()\n",
    "plt.grid(True)\n",
    "plt.tight_layout()\n",
    "plt.show()\n",
    "\n",
    "tester.test('cl_model_learning', test_ce, test_acc)"
   ]
  },
  {
   "cell_type": "code",
   "execution_count": null,
   "metadata": {},
   "outputs": [],
   "source": []
  },
  {
   "cell_type": "code",
   "execution_count": null,
   "metadata": {},
   "outputs": [],
   "source": []
  }
 ],
 "metadata": {
  "colab": {
   "provenance": []
  },
  "kernelspec": {
   "display_name": "Python 3 (ipykernel)",
   "language": "python",
   "name": "python3"
  },
  "language_info": {
   "codemirror_mode": {
    "name": "ipython",
    "version": 3
   },
   "file_extension": ".py",
   "mimetype": "text/x-python",
   "name": "python",
   "nbconvert_exporter": "python",
   "pygments_lexer": "ipython3",
   "version": "3.12.9"
  }
 },
 "nbformat": 4,
 "nbformat_minor": 4
}
